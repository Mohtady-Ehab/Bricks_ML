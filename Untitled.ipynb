{
 "cells": [
  {
   "cell_type": "code",
   "execution_count": 35,
   "id": "4c105753",
   "metadata": {},
   "outputs": [],
   "source": [
    "import numpy as np # linear algebra\n",
    "import pandas as pd # data processing, CSV file I/O (e.g. pd.read_csv)\n",
    "from sklearn import linear_model\n",
    "from sklearn.linear_model import LinearRegression\n",
    "import matplotlib.pyplot as plt"
   ]
  },
  {
   "cell_type": "code",
   "execution_count": 52,
   "id": "a80f163d",
   "metadata": {},
   "outputs": [],
   "source": [
    "db= pd.read_excel(\"rms_data.xlsx\")\n"
   ]
  },
  {
   "cell_type": "code",
   "execution_count": 46,
   "id": "62cdf7cd",
   "metadata": {},
   "outputs": [],
   "source": [
    "xs = db[[\"X\",\"Y\",\"Z\"]]\n",
    "ys = db[[\"fall\"]]"
   ]
  },
  {
   "cell_type": "code",
   "execution_count": 47,
   "id": "cd15caea",
   "metadata": {},
   "outputs": [],
   "source": [
    "db_test = pd.read_excel(\"data_test.xlsx\")\n",
    "x_test = db_test[[\"X\",\"Y\",\"Z\"]]\n",
    "y_test = db_test[[\"fall\"]]"
   ]
  },
  {
   "cell_type": "code",
   "execution_count": 48,
   "id": "735b3535",
   "metadata": {},
   "outputs": [],
   "source": [
    "x_train = xs.to_numpy()\n",
    "y_train = ys.to_numpy()\n",
    "x_test = x_test.to_numpy()\n",
    "y_test = y_test.to_numpy()"
   ]
  },
  {
   "cell_type": "code",
   "execution_count": 49,
   "id": "976cca52",
   "metadata": {},
   "outputs": [
    {
     "data": {
      "text/plain": [
       "LinearRegression()"
      ]
     },
     "execution_count": 49,
     "metadata": {},
     "output_type": "execute_result"
    }
   ],
   "source": [
    "slr = linear_model.LinearRegression()\n",
    "slr.fit(x_train,y_train)"
   ]
  },
  {
   "cell_type": "code",
   "execution_count": 51,
   "id": "c8a10da4",
   "metadata": {},
   "outputs": [
    {
     "data": {
      "text/plain": [
       "0.8385928895877086"
      ]
     },
     "execution_count": 51,
     "metadata": {},
     "output_type": "execute_result"
    }
   ],
   "source": [
    "y_pred = slr.predict(x_test)\n",
    "accuracy = slr.score(x_test,y_test)\n",
    "accuracy"
   ]
  },
  {
   "cell_type": "code",
   "execution_count": null,
   "id": "1fc9d4d1",
   "metadata": {},
   "outputs": [],
   "source": []
  },
  {
   "cell_type": "code",
   "execution_count": null,
   "id": "2c8d3959",
   "metadata": {},
   "outputs": [],
   "source": []
  }
 ],
 "metadata": {
  "kernelspec": {
   "display_name": "Python 3 (ipykernel)",
   "language": "python",
   "name": "python3"
  },
  "language_info": {
   "codemirror_mode": {
    "name": "ipython",
    "version": 3
   },
   "file_extension": ".py",
   "mimetype": "text/x-python",
   "name": "python",
   "nbconvert_exporter": "python",
   "pygments_lexer": "ipython3",
   "version": "3.9.13"
  }
 },
 "nbformat": 4,
 "nbformat_minor": 5
}
